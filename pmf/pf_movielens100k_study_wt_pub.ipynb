{
 "cells": [
  {
   "cell_type": "code",
   "execution_count": 1,
   "metadata": {},
   "outputs": [],
   "source": [
    "# use python 2 and stanhelper-0.8"
   ]
  },
  {
   "cell_type": "code",
   "execution_count": 2,
   "metadata": {},
   "outputs": [],
   "source": [
    "import numpy as np\n",
    "np.set_printoptions(precision=3)\n",
    "np.set_printoptions(suppress=True)\n",
    "np.set_printoptions(linewidth=60)\n",
    "\n",
    "import pandas as pd\n",
    "\n",
    "import matplotlib.pyplot as plt\n",
    "%matplotlib inline\n",
    "from matplotlib import style\n",
    "style.use('ggplot')\n",
    "import itertools\n",
    "\n",
    "from IPython.display import display\n",
    "\n",
    "import stanhelper"
   ]
  },
  {
   "cell_type": "code",
   "execution_count": 3,
   "metadata": {},
   "outputs": [],
   "source": [
    "# # LOAD AND PROCESS DATA (or read from PRE-PROCESSED files)\n",
    "\n",
    "# path_to_data = '/Users/alpkucukelbir/files/data/movielens/ml-latest-small/'\n",
    "\n",
    "# # ratings\n",
    "# ratings = pd.read_csv(path_to_data+'ratings.csv', sep=',', index_col='userId')\n",
    "# ratings['rating'] = ratings['rating'].apply(np.ceil).astype('int')\n",
    "# del ratings['timestamp']\n",
    "\n",
    "# # movie names\n",
    "# movies = pd.read_csv(path_to_data+'movies.csv', sep=',', index_col='movieId')\n",
    "# movies = movies.reset_index()\n",
    "# movies.index = np.arange(1, len(movies) + 1)\n",
    "# movies['oldMovieId'] = movies['movieId']\n",
    "# del movies['movieId']\n",
    "# movies.index.name = 'movieId'\n",
    "\n",
    "# ratings['oldMovieId'] = ratings['movieId']\n",
    "# ratings['newMovieId'] = ratings['oldMovieId'].apply(lambda x: movies.index[movies['oldMovieId']==x].values[0])\n",
    "# del ratings['movieId']\n",
    "# ratings['movieId'] = ratings['newMovieId']\n",
    "# del ratings['newMovieId']\n",
    "# ratings = ratings[['movieId','rating','oldMovieId']]\n",
    "\n",
    "# ratings.to_pickle('ratings_reindexed.pickle')\n",
    "# movies.to_pickle('movies_reindexed.pickle')\n",
    "\n",
    "ratings = pd.read_pickle('ratings_reindexed.pickle')\n",
    "movies = pd.read_pickle('movies_reindexed.pickle')\n",
    "\n",
    "# ratings = pd.read_pickle('ratings_1M_reindexed.pickle')\n",
    "# movies = pd.read_pickle('movies_1M_reindexed.pickle')\n",
    "\n",
    "# Data has ratings from 1 to 5. Threshold at 1.\n",
    "ratings['rating'] = 1"
   ]
  },
  {
   "cell_type": "code",
   "execution_count": 4,
   "metadata": {},
   "outputs": [],
   "source": [
    "# DEFINE ALL OF THE PARAMETERS IN THIS SCRIPT HERE\n",
    "\n",
    "# internal dimension of PF model\n",
    "K = 10\n",
    "\n",
    "# exponential prior\n",
    "lambd = 1/1e3\n",
    "\n",
    "# training/testing split\n",
    "test_ratio = 0.2 # this is the ratio of users that go into the testing dataset\n",
    "\n",
    "# \"smoothness\" parameter to the Gamma initialization for Stan\n",
    "initprm = 1e2"
   ]
  },
  {
   "cell_type": "code",
   "execution_count": 5,
   "metadata": {},
   "outputs": [
    {
     "name": "stderr",
     "output_type": "stream",
     "text": [
      "/Users/yixinwang/py2/lib/python2.7/site-packages/ipykernel_launcher.py:13: DeprecationWarning: \n",
      ".ix is deprecated. Please use\n",
      ".loc for label based indexing or\n",
      ".iloc for positional indexing\n",
      "\n",
      "See the documentation here:\n",
      "http://pandas.pydata.org/pandas-docs/stable/indexing.html#ix-indexer-is-deprecated\n",
      "  del sys.path[0]\n"
     ]
    }
   ],
   "source": [
    "# SUBSET THE DATA (optional)\n",
    "\n",
    "# number of users\n",
    "U = ratings.index.max()\n",
    "ratings_subset = ratings[ratings.index <= U] # pick the first U users \n",
    "\n",
    "# number of items\n",
    "I = 1000 #ratings_subset['movieId'].max()\n",
    "ratings_subset = ratings_subset[(ratings_subset['movieId'] <= I)]\n",
    "\n",
    "# after this subsetting, some users have < 20 ratings\n",
    "# toss those users away\n",
    "ratings_subset = ratings_subset.ix[ratings_subset.groupby(ratings_subset.index).sum()['rating'] >= 20]\n",
    "\n",
    "# reindex the users and update U\n",
    "old_index = ratings_subset.index.unique()\n",
    "new_index = np.arange(1, np.size(old_index)+1)\n",
    "ratings_subset.index = ratings_subset.index.map(lambda x: new_index[old_index==x][0])\n",
    "U = ratings_subset.index.max()"
   ]
  },
  {
   "cell_type": "code",
   "execution_count": 6,
   "metadata": {},
   "outputs": [],
   "source": [
    "# OPTIONAL: CORRUPT DATASET\n",
    "\n",
    "# Users with more than 100 ratings\n",
    "users_with_lots_of_ratings = ratings_subset.index.unique()[ \n",
    "    (ratings_subset.groupby(ratings_subset.index).sum()['rating']>150).values ]\n",
    "\n",
    "# Number of users in training dataset to corrupt\n",
    "top_R_users_to_corrupt      = 20\n",
    "\n",
    "# Ratio of ratings to randomly resample from other movies\n",
    "ratio_of_ratings_to_corrupt = 1\n",
    "\n",
    "for u in users_with_lots_of_ratings[0:top_R_users_to_corrupt]:\n",
    "    number_of_movies_to_corrupt = int(np.floor(ratio_of_ratings_to_corrupt*ratings_subset.xs(u).shape[0]))\n",
    "\n",
    "    this_users_movies      = ratings_subset.xs(u)['movieId'].values\n",
    "    not_this_users_movies  = np.setdiff1d(np.arange(I)+1, this_users_movies)\n",
    "    randomly_chosen_movies = np.random.choice(not_this_users_movies, \n",
    "                                              size=number_of_movies_to_corrupt, \n",
    "                                              replace=False)\n",
    "    this_users_movies[0:number_of_movies_to_corrupt] = randomly_chosen_movies\n",
    "    ratings_subset.xs(u)['movieId'] = this_users_movies\n",
    "# print ratings_subset.groupby(ratings_subset.index).sum()['rating']"
   ]
  },
  {
   "cell_type": "code",
   "execution_count": 7,
   "metadata": {},
   "outputs": [
    {
     "name": "stdout",
     "output_type": "stream",
     "text": [
      "Int64Index([ 16,  35,  49,  59,  61,  95,  98, 102, 111, 113, 119, 139, 141,\n",
      "            145, 153, 160, 182, 192, 197, 228],\n",
      "           dtype='int64', name=u'userId')\n"
     ]
    }
   ],
   "source": [
    "users_with_lots_of_ratings = ratings_subset.index.unique()[ \n",
    "    (ratings_subset.groupby(ratings_subset.index).sum()['rating']>150).values ]\n",
    "print(users_with_lots_of_ratings[0:top_R_users_to_corrupt])"
   ]
  },
  {
   "cell_type": "code",
   "execution_count": 8,
   "metadata": {},
   "outputs": [
    {
     "name": "stdout",
     "output_type": "stream",
     "text": [
      "result of training/testing splitting\n",
      "training users: 338\n",
      "testing users: 85\n"
     ]
    }
   ],
   "source": [
    "# TRAINING/TESTING SPLIT\n",
    "\n",
    "# number of useres in train and test sets\n",
    "Utr = int(np.floor((1-test_ratio)*U))\n",
    "Ute = U - Utr\n",
    "\n",
    "# get the training dataset\n",
    "ratings_train = ratings_subset[ratings_subset.index <= Utr]\n",
    "\n",
    "# get the testing dataset (requires reindexing)\n",
    "ratings_test  = ratings_subset[ratings_subset.index > Utr]\n",
    "old_index = ratings_test.index.unique()\n",
    "new_index = np.arange(1, np.size(old_index)+1)\n",
    "ratings_test.index = ratings_test.index.map(lambda x: new_index[old_index==x][0])\n",
    "\n",
    "print('result of training/testing splitting')\n",
    "print('training users: '+str(Utr))\n",
    "print('testing users: '+str(Ute))"
   ]
  },
  {
   "cell_type": "code",
   "execution_count": 9,
   "metadata": {},
   "outputs": [
    {
     "name": "stdout",
     "output_type": "stream",
     "text": [
      "size of training dataset\n",
      "number of nonzero measurements: 22950\n",
      "number of parameters in stan: 13380\n"
     ]
    }
   ],
   "source": [
    "# convert datasets into numpy\n",
    "data_ind = ratings_train.sort_index().index.values\n",
    "data_rat = ratings_train.sort_index().values\n",
    "data_train = np.array(np.concatenate((np.atleast_2d(data_ind).T, data_rat), axis=1), dtype='int')\n",
    "\n",
    "data_ind = ratings_test.sort_index().index.values\n",
    "data_rat = ratings_test.sort_index().values\n",
    "data_test = np.array(np.concatenate((np.atleast_2d(data_ind).T, data_rat), axis=1), dtype='int')\n",
    "\n",
    "print('size of training dataset')\n",
    "print('number of nonzero measurements: '+str(data_train.shape[0]))\n",
    "print('number of parameters in stan: '+str((Utr*K)+(I*K)))"
   ]
  },
  {
   "cell_type": "code",
   "execution_count": 10,
   "metadata": {},
   "outputs": [],
   "source": [
    "# write training dataset to file\n",
    "train_dict = {}\n",
    "train_dict['U'] = Utr;\n",
    "train_dict['I'] = I;\n",
    "train_dict['K'] = K;\n",
    "train_dict['number_entries'] = data_train.shape[0]\n",
    "train_dict['user_index'] = data_train[:,0]\n",
    "train_dict['item_index'] = data_train[:,1]\n",
    "train_dict['rating'] = data_train[:,2]\n",
    "train_dict['lambda'] = lambd\n",
    "train_dict['beta_a'] = 200\n",
    "train_dict['beta_b'] = 1\n",
    "stanhelper.stan_rdump(train_dict, 'train_dict.data.R')"
   ]
  },
  {
   "cell_type": "code",
   "execution_count": 11,
   "metadata": {},
   "outputs": [],
   "source": [
    "# write initialization to file\n",
    "train_dict_init = {}\n",
    "train_dict_init['theta'] = np.random.gamma(initprm,scale=1.0/initprm, size=(Utr,K))\n",
    "train_dict_init['beta'] = np.random.gamma(initprm,scale=1.0/initprm, size=(I,K))\n",
    "train_dict_init['w'] = [0.99] * Utr\n",
    "stanhelper.stan_rdump(train_dict_init, 'train_dict_init.data.R')"
   ]
  },
  {
   "cell_type": "code",
   "execution_count": 12,
   "metadata": {},
   "outputs": [
    {
     "name": "stdout",
     "output_type": "stream",
     "text": [
      "./expp_sparse_w_beta optimize iter=10 data file=train_dict.data.R init=train_dict_init.data.R output file=train_map_output.csv\n"
     ]
    }
   ],
   "source": [
    "# # RUN STAN MAP OPTIMIZATION for a few iterations to get SOME INITIALIZATION\n",
    "\n",
    "# # DO THIS FROM THE COMMAND LINE AND WAIT FOR RESULTS\n",
    "\n",
    "execution_string  = './expp_sparse_w_beta optimize iter=10 '\n",
    "execution_string += 'data file=train_dict.data.R init=train_dict_init.data.R output file=train_map_output.csv'\n",
    "print execution_string"
   ]
  },
  {
   "cell_type": "code",
   "execution_count": 13,
   "metadata": {},
   "outputs": [
    {
     "name": "stdout",
     "output_type": "stream",
     "text": [
      "method = optimize\n",
      "  optimize\n",
      "    algorithm = lbfgs (Default)\n",
      "      lbfgs\n",
      "        init_alpha = 0.001 (Default)\n",
      "        tol_obj = 9.9999999999999998e-13 (Default)\n",
      "        tol_rel_obj = 10000 (Default)\n",
      "        tol_grad = 1e-08 (Default)\n",
      "        tol_rel_grad = 10000000 (Default)\n",
      "        tol_param = 1e-08 (Default)\n",
      "        history_size = 5 (Default)\n",
      "    iter = 10\n",
      "    save_iterations = 0 (Default)\n",
      "id = 0 (Default)\n",
      "data\n",
      "  file = train_dict.data.R\n",
      "init = train_dict_init.data.R\n",
      "random\n",
      "  seed = 667005424\n",
      "output\n",
      "  file = train_map_output.csv\n",
      "  diagnostic_file =  (Default)\n",
      "  refresh = 100 (Default)\n",
      "\n",
      "Initial log joint probability = -3.29161e+06\n",
      "    Iter      log prob        ||dx||      ||grad||       alpha      alpha0  # evals  Notes \n",
      "      10      -63754.1       26.2147        545.14       2.288      0.2288       13   \n",
      "Optimization terminated normally: \n",
      "  Maximum number of iterations hit, may not be at an optima\n"
     ]
    }
   ],
   "source": [
    "! ./expp_sparse_w_beta optimize iter=10 data file=train_dict.data.R init=train_dict_init.data.R output file=train_map_output.csv"
   ]
  },
  {
   "cell_type": "code",
   "execution_count": 14,
   "metadata": {},
   "outputs": [],
   "source": [
    "train_map_results = stanhelper.stan_read_csv('train_map_output.csv')\n",
    "train_map_init = {}\n",
    "train_map_init['theta'] = train_map_results['theta']\n",
    "train_map_init['beta']  = train_map_results['beta']\n",
    "stanhelper.stan_rdump(train_map_init, 'train_map_init.data.R')"
   ]
  },
  {
   "cell_type": "code",
   "execution_count": 15,
   "metadata": {},
   "outputs": [
    {
     "name": "stdout",
     "output_type": "stream",
     "text": [
      "./expp_sparse_w_beta variational iter=30000 adapt engaged=0 eta=0.25 tol_rel_obj=1e-2 output_samples=1 data file=train_dict.data.R init=train_dict_init.data.R output file=train_output.csv\n"
     ]
    }
   ],
   "source": [
    "## RUN STAN VARIATIONAL INFERENCE \n",
    "\n",
    "# DO THIS FROM THE COMMAND LINE AND WAIT FOR RESULTS\n",
    "\n",
    "execution_string  = './expp_sparse_w_beta variational iter=30000 adapt engaged=0 eta=0.25 tol_rel_obj=1e-2 output_samples=1 '\n",
    "execution_string += 'data file=train_dict.data.R init=train_dict_init.data.R output file=train_output.csv'\n",
    "print execution_string"
   ]
  },
  {
   "cell_type": "code",
   "execution_count": 16,
   "metadata": {},
   "outputs": [
    {
     "name": "stdout",
     "output_type": "stream",
     "text": [
      "method = variational\n",
      "  variational\n",
      "    algorithm = meanfield (Default)\n",
      "      meanfield\n",
      "    iter = 30000\n",
      "    grad_samples = 1 (Default)\n",
      "    elbo_samples = 100 (Default)\n",
      "    eta = 0.25\n",
      "    adapt\n",
      "      engaged = 0\n",
      "      iter = 50 (Default)\n",
      "    tol_rel_obj = 0.01 (Default)\n",
      "    eval_elbo = 100 (Default)\n",
      "    output_samples = 1\n",
      "id = 0 (Default)\n",
      "data\n",
      "  file = train_dict.data.R\n",
      "init = train_dict_init.data.R\n",
      "random\n",
      "  seed = 667006625\n",
      "output\n",
      "  file = train_output.csv\n",
      "  diagnostic_file =  (Default)\n",
      "  refresh = 100 (Default)\n",
      "\n",
      "------------------------------------------------------------\n",
      "EXPERIMENTAL ALGORITHM:\n",
      "  This procedure has not been thoroughly tested and may be unstable\n",
      "  or buggy. The interface is subject to change.\n",
      "------------------------------------------------------------\n",
      "\n",
      "\n",
      "\n",
      "Gradient evaluation took 0.059421 seconds\n",
      "1000 transitions using 10 leapfrog steps per transition would take 594.21 seconds.\n",
      "Adjust your expectations accordingly!\n",
      "\n",
      "\n",
      "Begin stochastic gradient ascent.\n",
      "  iter             ELBO   delta_ELBO_mean   delta_ELBO_med   notes \n",
      "   100      -256053.430             1.000            1.000\n",
      "   200      -187167.161             0.684            1.000\n",
      "   300      -178383.804             0.472            0.368\n",
      "   400      -174891.100             0.359            0.368\n",
      "   500      -172430.634             0.290            0.049\n",
      "   600      -170359.774             0.244            0.049\n",
      "   700      -168728.566             0.210            0.020\n",
      "   800      -167355.232             0.185            0.020\n",
      "   900      -166102.440             0.165            0.014\n",
      "  1000      -164994.616             0.150            0.014\n",
      "  1100      -163979.071             0.137            0.012\n",
      "  1200      -162971.414             0.126            0.012\n",
      "  1300      -161962.109             0.116            0.010   MEDIAN ELBO CONVERGED\n",
      "\n",
      "Drawing a sample of size 1 from the approximate posterior... \n",
      "COMPLETED.\n"
     ]
    }
   ],
   "source": [
    "! ./expp_sparse_w_beta variational iter=30000 adapt engaged=0 eta=0.25 tol_rel_obj=1e-2 output_samples=1 data file=train_dict.data.R init=train_dict_init.data.R output file=train_output.csv"
   ]
  },
  {
   "cell_type": "code",
   "execution_count": 17,
   "metadata": {},
   "outputs": [],
   "source": [
    "train_results = stanhelper.stan_read_csv('train_output.csv')"
   ]
  },
  {
   "cell_type": "code",
   "execution_count": 18,
   "metadata": {},
   "outputs": [
    {
     "name": "stdout",
     "output_type": "stream",
     "text": [
      "297.557402\n",
      "(338,)\n",
      "Int64Index([ 16,  35,  49,  59,  61,  95,  98, 102, 111, 113, 119, 139, 141,\n",
      "            145, 153, 160, 182, 192, 197, 228, 241, 254, 284, 285, 289, 295,\n",
      "            298, 302, 347, 352, 356, 363, 365, 383, 385, 395, 423],\n",
      "           dtype='int64', name=u'userId')\n"
     ]
    },
    {
     "data": {
      "text/plain": [
       "(array([  3.,   1.,   3.,   6.,   8.,  13.,  15.,  15.,\n",
       "         17., 238.]), array([0.259, 0.333, 0.406, 0.48 , 0.554, 0.627, 0.701,\n",
       "        0.774, 0.848, 0.921, 0.995]), <a list of 10 Patch objects>)"
      ]
     },
     "execution_count": 18,
     "metadata": {},
     "output_type": "execute_result"
    },
    {
     "data": {
      "image/png": "[encoded data removed]",
      "text/plain": [
       "<matplotlib.figure.Figure at 0x10e6f0c50>"
      ]
     },
     "metadata": {},
     "output_type": "display_data"
    }
   ],
   "source": [
    "w = train_results['mean_pars']['w']\n",
    "print(np.sum(train_results['mean_pars']['w']))\n",
    "print(train_results['mean_pars']['w'].shape)\n",
    "print(users_with_lots_of_ratings)\n",
    "\n",
    "\n",
    "crpt_wt = w[users_with_lots_of_ratings[0:(top_R_users_to_corrupt-1)]-1]\n",
    "uncrpt_wt = w[np.setdiff1d(np.arange(Utr), users_with_lots_of_ratings[0:(top_R_users_to_corrupt-1)]-1)]\n",
    "plt.hist(crpt_wt)\n",
    "plt.hist(uncrpt_wt)\n"
   ]
  },
  {
   "cell_type": "code",
   "execution_count": 19,
   "metadata": {},
   "outputs": [
    {
     "data": {
      "text/plain": [
       "{'boxes': [<matplotlib.lines.Line2D at 0x1101e9a50>],\n",
       " 'caps': [<matplotlib.lines.Line2D at 0x1101f2650>,\n",
       "  <matplotlib.lines.Line2D at 0x1101f2a10>],\n",
       " 'fliers': [<matplotlib.lines.Line2D at 0x1101f2e10>],\n",
       " 'means': [],\n",
       " 'medians': [<matplotlib.lines.Line2D at 0x1101f2dd0>],\n",
       " 'whiskers': [<matplotlib.lines.Line2D at 0x1101e9e90>,\n",
       "  <matplotlib.lines.Line2D at 0x1101e9ed0>]}"
      ]
     },
     "execution_count": 19,
     "metadata": {},
     "output_type": "execute_result"
    },
    {
     "data": {
      "image/png": "[encoded data removed]",
      "text/plain": [
       "<matplotlib.figure.Figure at 0x10e51eb50>"
      ]
     },
     "metadata": {},
     "output_type": "display_data"
    }
   ],
   "source": [
    "plt.boxplot(crpt_wt)\n",
    "plt.boxplot(uncrpt_wt)"
   ]
  },
  {
   "cell_type": "code",
   "execution_count": null,
   "metadata": {},
   "outputs": [],
   "source": []
  }
 ],
 "metadata": {
  "kernelspec": {
   "display_name": "Python 2",
   "language": "python",
   "name": "python2"
  },
  "language_info": {
   "codemirror_mode": {
    "name": "ipython",
    "version": 2
   },
   "file_extension": ".py",
   "mimetype": "text/x-python",
   "name": "python",
   "nbconvert_exporter": "python",
   "pygments_lexer": "ipython2",
   "version": "2.7.10"
  }
 },
 "nbformat": 4,
 "nbformat_minor": 1
}
